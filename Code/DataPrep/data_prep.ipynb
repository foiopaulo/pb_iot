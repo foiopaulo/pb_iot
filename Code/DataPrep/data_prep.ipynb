{
 "cells": [
  {
   "cell_type": "code",
   "execution_count": null,
   "metadata": {},
   "outputs": [],
   "source": [
    "import pandas as pd\n",
    "\n",
    "# Importação dos dados originais\n",
    "data = pd.read_csv('../../Data/Raw/occupancy.csv')\n",
    "\n",
    "# Deletando valores NaN\n",
    "data = data.dropna()\n",
    "\n",
    "# Nomeando e escrevendo um novo arquivo com os dados processados\n",
    "data.columns = [\"date\", \"temperature\", \"humidity\", \"light\", \"co2\",\"humidity_ratio\", \"occupancy\"]\n",
    "data.to_csv(\"../../Data/Processed/occupancy_processed.csv\")\n",
    "\n",
    "data"
   ]
  }
 ],
 "metadata": {
  "interpreter": {
   "hash": "3bb1cb914b2e8128ee5b893292696d87a6a44c2ee1ab6ce140c1819c7906c573"
  },
  "kernelspec": {
   "display_name": "Python 3.9.6 64-bit",
   "language": "python",
   "name": "python3"
  },
  "language_info": {
   "codemirror_mode": {
    "name": "ipython",
    "version": 3
   },
   "file_extension": ".py",
   "mimetype": "text/x-python",
   "name": "python",
   "nbconvert_exporter": "python",
   "pygments_lexer": "ipython3",
   "version": "3.7.11"
  },
  "orig_nbformat": 4
 },
 "nbformat": 4,
 "nbformat_minor": 2
}
