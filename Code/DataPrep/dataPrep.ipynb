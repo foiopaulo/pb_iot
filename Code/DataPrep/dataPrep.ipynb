{
 "cells": [
  {
   "cell_type": "code",
   "execution_count": 9,
   "metadata": {},
   "outputs": [
    {
     "name": "stdout",
     "output_type": "stream",
     "text": [
      "<class 'pandas.core.frame.DataFrame'>\n",
      "RangeIndex: 20560 entries, 0 to 20559\n",
      "Data columns (total 7 columns):\n",
      " #   Column         Non-Null Count  Dtype  \n",
      "---  ------         --------------  -----  \n",
      " 0   date           20560 non-null  object \n",
      " 1   Temperature    20560 non-null  float64\n",
      " 2   Humidity       20560 non-null  float64\n",
      " 3   Light          20560 non-null  float64\n",
      " 4   CO2            20560 non-null  float64\n",
      " 5   HumidityRatio  20560 non-null  float64\n",
      " 6   Occupancy      20560 non-null  int64  \n",
      "dtypes: float64(5), int64(1), object(1)\n",
      "memory usage: 1.1+ MB\n"
     ]
    }
   ],
   "source": [
    "import pandas as pd\n",
    "\n",
    "# Importação dos dados originais\n",
    "data = pd.read_csv('../../Data/Raw/Occupancy.csv')\n",
    "\n",
    "# Deletando valores NaN\n",
    "data = data.dropna()\n",
    "\n",
    "# Deletando colunas que não serão usadas\n",
    "#data.drop(['HumidityRatio'], axis=1, inplace=True)\n",
    "\n",
    "data.to_csv(\"../../Data/Processed/Ocuppancy_processed.csv\")\n",
    "\n",
    "data.info()"
   ]
  }
 ],
 "metadata": {
  "interpreter": {
   "hash": "3bb1cb914b2e8128ee5b893292696d87a6a44c2ee1ab6ce140c1819c7906c573"
  },
  "kernelspec": {
   "display_name": "Python 3.9.6 64-bit",
   "language": "python",
   "name": "python3"
  },
  "language_info": {
   "codemirror_mode": {
    "name": "ipython",
    "version": 3
   },
   "file_extension": ".py",
   "mimetype": "text/x-python",
   "name": "python",
   "nbconvert_exporter": "python",
   "pygments_lexer": "ipython3",
   "version": "3.10.3"
  },
  "orig_nbformat": 4
 },
 "nbformat": 4,
 "nbformat_minor": 2
}
